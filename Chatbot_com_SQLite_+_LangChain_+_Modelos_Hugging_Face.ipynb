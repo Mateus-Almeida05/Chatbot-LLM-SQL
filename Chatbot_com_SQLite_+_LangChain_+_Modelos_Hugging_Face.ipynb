{
  "nbformat": 4,
  "nbformat_minor": 0,
  "metadata": {
    "colab": {
      "provenance": [],
      "gpuType": "T4"
    },
    "kernelspec": {
      "name": "python3",
      "display_name": "Python 3"
    },
    "language_info": {
      "name": "python"
    },
    "accelerator": "GPU",
    "widgets": {
      "application/vnd.jupyter.widget-state+json": {
        "346bf1e5b56348a0ad70547b74df99a1": {
          "model_module": "@jupyter-widgets/controls",
          "model_name": "HBoxModel",
          "model_module_version": "1.5.0",
          "state": {
            "_dom_classes": [],
            "_model_module": "@jupyter-widgets/controls",
            "_model_module_version": "1.5.0",
            "_model_name": "HBoxModel",
            "_view_count": null,
            "_view_module": "@jupyter-widgets/controls",
            "_view_module_version": "1.5.0",
            "_view_name": "HBoxView",
            "box_style": "",
            "children": [
              "IPY_MODEL_8eda9bfdc1154ccd97d97e8e24d399db",
              "IPY_MODEL_1377b76d2d5944dfa50b2466b94d7bba",
              "IPY_MODEL_59c1c7e27cc14a9fb09710f12cc54af0"
            ],
            "layout": "IPY_MODEL_02990b5e82cf41ac87b64bc25f9ca2af"
          }
        },
        "8eda9bfdc1154ccd97d97e8e24d399db": {
          "model_module": "@jupyter-widgets/controls",
          "model_name": "HTMLModel",
          "model_module_version": "1.5.0",
          "state": {
            "_dom_classes": [],
            "_model_module": "@jupyter-widgets/controls",
            "_model_module_version": "1.5.0",
            "_model_name": "HTMLModel",
            "_view_count": null,
            "_view_module": "@jupyter-widgets/controls",
            "_view_module_version": "1.5.0",
            "_view_name": "HTMLView",
            "description": "",
            "description_tooltip": null,
            "layout": "IPY_MODEL_434df2c8907e4b0db36c577bcdb6b93e",
            "placeholder": "​",
            "style": "IPY_MODEL_cf8327bbb0584eb5892dc9d31baf7eb3",
            "value": "Loading checkpoint shards: 100%"
          }
        },
        "1377b76d2d5944dfa50b2466b94d7bba": {
          "model_module": "@jupyter-widgets/controls",
          "model_name": "FloatProgressModel",
          "model_module_version": "1.5.0",
          "state": {
            "_dom_classes": [],
            "_model_module": "@jupyter-widgets/controls",
            "_model_module_version": "1.5.0",
            "_model_name": "FloatProgressModel",
            "_view_count": null,
            "_view_module": "@jupyter-widgets/controls",
            "_view_module_version": "1.5.0",
            "_view_name": "ProgressView",
            "bar_style": "success",
            "description": "",
            "description_tooltip": null,
            "layout": "IPY_MODEL_adfc1d9994cb47d39c0402d5f3781608",
            "max": 2,
            "min": 0,
            "orientation": "horizontal",
            "style": "IPY_MODEL_c50dabf053634051ba45e0d8fe6d0b92",
            "value": 2
          }
        },
        "59c1c7e27cc14a9fb09710f12cc54af0": {
          "model_module": "@jupyter-widgets/controls",
          "model_name": "HTMLModel",
          "model_module_version": "1.5.0",
          "state": {
            "_dom_classes": [],
            "_model_module": "@jupyter-widgets/controls",
            "_model_module_version": "1.5.0",
            "_model_name": "HTMLModel",
            "_view_count": null,
            "_view_module": "@jupyter-widgets/controls",
            "_view_module_version": "1.5.0",
            "_view_name": "HTMLView",
            "description": "",
            "description_tooltip": null,
            "layout": "IPY_MODEL_17878cad81e54365bf5683e4874a788e",
            "placeholder": "​",
            "style": "IPY_MODEL_089a3ab80dc64d57b89e98f7d7eee652",
            "value": " 2/2 [01:10&lt;00:00, 32.86s/it]"
          }
        },
        "02990b5e82cf41ac87b64bc25f9ca2af": {
          "model_module": "@jupyter-widgets/base",
          "model_name": "LayoutModel",
          "model_module_version": "1.2.0",
          "state": {
            "_model_module": "@jupyter-widgets/base",
            "_model_module_version": "1.2.0",
            "_model_name": "LayoutModel",
            "_view_count": null,
            "_view_module": "@jupyter-widgets/base",
            "_view_module_version": "1.2.0",
            "_view_name": "LayoutView",
            "align_content": null,
            "align_items": null,
            "align_self": null,
            "border": null,
            "bottom": null,
            "display": null,
            "flex": null,
            "flex_flow": null,
            "grid_area": null,
            "grid_auto_columns": null,
            "grid_auto_flow": null,
            "grid_auto_rows": null,
            "grid_column": null,
            "grid_gap": null,
            "grid_row": null,
            "grid_template_areas": null,
            "grid_template_columns": null,
            "grid_template_rows": null,
            "height": null,
            "justify_content": null,
            "justify_items": null,
            "left": null,
            "margin": null,
            "max_height": null,
            "max_width": null,
            "min_height": null,
            "min_width": null,
            "object_fit": null,
            "object_position": null,
            "order": null,
            "overflow": null,
            "overflow_x": null,
            "overflow_y": null,
            "padding": null,
            "right": null,
            "top": null,
            "visibility": null,
            "width": null
          }
        },
        "434df2c8907e4b0db36c577bcdb6b93e": {
          "model_module": "@jupyter-widgets/base",
          "model_name": "LayoutModel",
          "model_module_version": "1.2.0",
          "state": {
            "_model_module": "@jupyter-widgets/base",
            "_model_module_version": "1.2.0",
            "_model_name": "LayoutModel",
            "_view_count": null,
            "_view_module": "@jupyter-widgets/base",
            "_view_module_version": "1.2.0",
            "_view_name": "LayoutView",
            "align_content": null,
            "align_items": null,
            "align_self": null,
            "border": null,
            "bottom": null,
            "display": null,
            "flex": null,
            "flex_flow": null,
            "grid_area": null,
            "grid_auto_columns": null,
            "grid_auto_flow": null,
            "grid_auto_rows": null,
            "grid_column": null,
            "grid_gap": null,
            "grid_row": null,
            "grid_template_areas": null,
            "grid_template_columns": null,
            "grid_template_rows": null,
            "height": null,
            "justify_content": null,
            "justify_items": null,
            "left": null,
            "margin": null,
            "max_height": null,
            "max_width": null,
            "min_height": null,
            "min_width": null,
            "object_fit": null,
            "object_position": null,
            "order": null,
            "overflow": null,
            "overflow_x": null,
            "overflow_y": null,
            "padding": null,
            "right": null,
            "top": null,
            "visibility": null,
            "width": null
          }
        },
        "cf8327bbb0584eb5892dc9d31baf7eb3": {
          "model_module": "@jupyter-widgets/controls",
          "model_name": "DescriptionStyleModel",
          "model_module_version": "1.5.0",
          "state": {
            "_model_module": "@jupyter-widgets/controls",
            "_model_module_version": "1.5.0",
            "_model_name": "DescriptionStyleModel",
            "_view_count": null,
            "_view_module": "@jupyter-widgets/base",
            "_view_module_version": "1.2.0",
            "_view_name": "StyleView",
            "description_width": ""
          }
        },
        "adfc1d9994cb47d39c0402d5f3781608": {
          "model_module": "@jupyter-widgets/base",
          "model_name": "LayoutModel",
          "model_module_version": "1.2.0",
          "state": {
            "_model_module": "@jupyter-widgets/base",
            "_model_module_version": "1.2.0",
            "_model_name": "LayoutModel",
            "_view_count": null,
            "_view_module": "@jupyter-widgets/base",
            "_view_module_version": "1.2.0",
            "_view_name": "LayoutView",
            "align_content": null,
            "align_items": null,
            "align_self": null,
            "border": null,
            "bottom": null,
            "display": null,
            "flex": null,
            "flex_flow": null,
            "grid_area": null,
            "grid_auto_columns": null,
            "grid_auto_flow": null,
            "grid_auto_rows": null,
            "grid_column": null,
            "grid_gap": null,
            "grid_row": null,
            "grid_template_areas": null,
            "grid_template_columns": null,
            "grid_template_rows": null,
            "height": null,
            "justify_content": null,
            "justify_items": null,
            "left": null,
            "margin": null,
            "max_height": null,
            "max_width": null,
            "min_height": null,
            "min_width": null,
            "object_fit": null,
            "object_position": null,
            "order": null,
            "overflow": null,
            "overflow_x": null,
            "overflow_y": null,
            "padding": null,
            "right": null,
            "top": null,
            "visibility": null,
            "width": null
          }
        },
        "c50dabf053634051ba45e0d8fe6d0b92": {
          "model_module": "@jupyter-widgets/controls",
          "model_name": "ProgressStyleModel",
          "model_module_version": "1.5.0",
          "state": {
            "_model_module": "@jupyter-widgets/controls",
            "_model_module_version": "1.5.0",
            "_model_name": "ProgressStyleModel",
            "_view_count": null,
            "_view_module": "@jupyter-widgets/base",
            "_view_module_version": "1.2.0",
            "_view_name": "StyleView",
            "bar_color": null,
            "description_width": ""
          }
        },
        "17878cad81e54365bf5683e4874a788e": {
          "model_module": "@jupyter-widgets/base",
          "model_name": "LayoutModel",
          "model_module_version": "1.2.0",
          "state": {
            "_model_module": "@jupyter-widgets/base",
            "_model_module_version": "1.2.0",
            "_model_name": "LayoutModel",
            "_view_count": null,
            "_view_module": "@jupyter-widgets/base",
            "_view_module_version": "1.2.0",
            "_view_name": "LayoutView",
            "align_content": null,
            "align_items": null,
            "align_self": null,
            "border": null,
            "bottom": null,
            "display": null,
            "flex": null,
            "flex_flow": null,
            "grid_area": null,
            "grid_auto_columns": null,
            "grid_auto_flow": null,
            "grid_auto_rows": null,
            "grid_column": null,
            "grid_gap": null,
            "grid_row": null,
            "grid_template_areas": null,
            "grid_template_columns": null,
            "grid_template_rows": null,
            "height": null,
            "justify_content": null,
            "justify_items": null,
            "left": null,
            "margin": null,
            "max_height": null,
            "max_width": null,
            "min_height": null,
            "min_width": null,
            "object_fit": null,
            "object_position": null,
            "order": null,
            "overflow": null,
            "overflow_x": null,
            "overflow_y": null,
            "padding": null,
            "right": null,
            "top": null,
            "visibility": null,
            "width": null
          }
        },
        "089a3ab80dc64d57b89e98f7d7eee652": {
          "model_module": "@jupyter-widgets/controls",
          "model_name": "DescriptionStyleModel",
          "model_module_version": "1.5.0",
          "state": {
            "_model_module": "@jupyter-widgets/controls",
            "_model_module_version": "1.5.0",
            "_model_name": "DescriptionStyleModel",
            "_view_count": null,
            "_view_module": "@jupyter-widgets/base",
            "_view_module_version": "1.2.0",
            "_view_name": "StyleView",
            "description_width": ""
          }
        },
        "308a118c80cf4480ae098482abb1441d": {
          "model_module": "@jupyter-widgets/controls",
          "model_name": "HBoxModel",
          "model_module_version": "1.5.0",
          "state": {
            "_dom_classes": [],
            "_model_module": "@jupyter-widgets/controls",
            "_model_module_version": "1.5.0",
            "_model_name": "HBoxModel",
            "_view_count": null,
            "_view_module": "@jupyter-widgets/controls",
            "_view_module_version": "1.5.0",
            "_view_name": "HBoxView",
            "box_style": "",
            "children": [
              "IPY_MODEL_8694ce731741403fac3d37ee158f3bae",
              "IPY_MODEL_5b2358d01cc04d3097f34cd74d0c59b2",
              "IPY_MODEL_2b70c5d61106452c863dda67af2d9b19"
            ],
            "layout": "IPY_MODEL_82a74cc36dcd4427ade3f0630ef3c1cb"
          }
        },
        "8694ce731741403fac3d37ee158f3bae": {
          "model_module": "@jupyter-widgets/controls",
          "model_name": "HTMLModel",
          "model_module_version": "1.5.0",
          "state": {
            "_dom_classes": [],
            "_model_module": "@jupyter-widgets/controls",
            "_model_module_version": "1.5.0",
            "_model_name": "HTMLModel",
            "_view_count": null,
            "_view_module": "@jupyter-widgets/controls",
            "_view_module_version": "1.5.0",
            "_view_name": "HTMLView",
            "description": "",
            "description_tooltip": null,
            "layout": "IPY_MODEL_1d1d7a2a798045668a986346123a8e55",
            "placeholder": "​",
            "style": "IPY_MODEL_19c2a52d971f4d6ea6e81224790a8d27",
            "value": "generation_config.json: 100%"
          }
        },
        "5b2358d01cc04d3097f34cd74d0c59b2": {
          "model_module": "@jupyter-widgets/controls",
          "model_name": "FloatProgressModel",
          "model_module_version": "1.5.0",
          "state": {
            "_dom_classes": [],
            "_model_module": "@jupyter-widgets/controls",
            "_model_module_version": "1.5.0",
            "_model_name": "FloatProgressModel",
            "_view_count": null,
            "_view_module": "@jupyter-widgets/controls",
            "_view_module_version": "1.5.0",
            "_view_name": "ProgressView",
            "bar_style": "success",
            "description": "",
            "description_tooltip": null,
            "layout": "IPY_MODEL_c35fe860077c4e879d5c08423d51fca1",
            "max": 116,
            "min": 0,
            "orientation": "horizontal",
            "style": "IPY_MODEL_0afde0d544f8400aa87d208841d8c830",
            "value": 116
          }
        },
        "2b70c5d61106452c863dda67af2d9b19": {
          "model_module": "@jupyter-widgets/controls",
          "model_name": "HTMLModel",
          "model_module_version": "1.5.0",
          "state": {
            "_dom_classes": [],
            "_model_module": "@jupyter-widgets/controls",
            "_model_module_version": "1.5.0",
            "_model_name": "HTMLModel",
            "_view_count": null,
            "_view_module": "@jupyter-widgets/controls",
            "_view_module_version": "1.5.0",
            "_view_name": "HTMLView",
            "description": "",
            "description_tooltip": null,
            "layout": "IPY_MODEL_4d690ef6d6a640f6bceaf4eb4e4dd98e",
            "placeholder": "​",
            "style": "IPY_MODEL_2d2ff19b9417468ab0b772c7110f1482",
            "value": " 116/116 [00:00&lt;00:00, 9.07kB/s]"
          }
        },
        "82a74cc36dcd4427ade3f0630ef3c1cb": {
          "model_module": "@jupyter-widgets/base",
          "model_name": "LayoutModel",
          "model_module_version": "1.2.0",
          "state": {
            "_model_module": "@jupyter-widgets/base",
            "_model_module_version": "1.2.0",
            "_model_name": "LayoutModel",
            "_view_count": null,
            "_view_module": "@jupyter-widgets/base",
            "_view_module_version": "1.2.0",
            "_view_name": "LayoutView",
            "align_content": null,
            "align_items": null,
            "align_self": null,
            "border": null,
            "bottom": null,
            "display": null,
            "flex": null,
            "flex_flow": null,
            "grid_area": null,
            "grid_auto_columns": null,
            "grid_auto_flow": null,
            "grid_auto_rows": null,
            "grid_column": null,
            "grid_gap": null,
            "grid_row": null,
            "grid_template_areas": null,
            "grid_template_columns": null,
            "grid_template_rows": null,
            "height": null,
            "justify_content": null,
            "justify_items": null,
            "left": null,
            "margin": null,
            "max_height": null,
            "max_width": null,
            "min_height": null,
            "min_width": null,
            "object_fit": null,
            "object_position": null,
            "order": null,
            "overflow": null,
            "overflow_x": null,
            "overflow_y": null,
            "padding": null,
            "right": null,
            "top": null,
            "visibility": null,
            "width": null
          }
        },
        "1d1d7a2a798045668a986346123a8e55": {
          "model_module": "@jupyter-widgets/base",
          "model_name": "LayoutModel",
          "model_module_version": "1.2.0",
          "state": {
            "_model_module": "@jupyter-widgets/base",
            "_model_module_version": "1.2.0",
            "_model_name": "LayoutModel",
            "_view_count": null,
            "_view_module": "@jupyter-widgets/base",
            "_view_module_version": "1.2.0",
            "_view_name": "LayoutView",
            "align_content": null,
            "align_items": null,
            "align_self": null,
            "border": null,
            "bottom": null,
            "display": null,
            "flex": null,
            "flex_flow": null,
            "grid_area": null,
            "grid_auto_columns": null,
            "grid_auto_flow": null,
            "grid_auto_rows": null,
            "grid_column": null,
            "grid_gap": null,
            "grid_row": null,
            "grid_template_areas": null,
            "grid_template_columns": null,
            "grid_template_rows": null,
            "height": null,
            "justify_content": null,
            "justify_items": null,
            "left": null,
            "margin": null,
            "max_height": null,
            "max_width": null,
            "min_height": null,
            "min_width": null,
            "object_fit": null,
            "object_position": null,
            "order": null,
            "overflow": null,
            "overflow_x": null,
            "overflow_y": null,
            "padding": null,
            "right": null,
            "top": null,
            "visibility": null,
            "width": null
          }
        },
        "19c2a52d971f4d6ea6e81224790a8d27": {
          "model_module": "@jupyter-widgets/controls",
          "model_name": "DescriptionStyleModel",
          "model_module_version": "1.5.0",
          "state": {
            "_model_module": "@jupyter-widgets/controls",
            "_model_module_version": "1.5.0",
            "_model_name": "DescriptionStyleModel",
            "_view_count": null,
            "_view_module": "@jupyter-widgets/base",
            "_view_module_version": "1.2.0",
            "_view_name": "StyleView",
            "description_width": ""
          }
        },
        "c35fe860077c4e879d5c08423d51fca1": {
          "model_module": "@jupyter-widgets/base",
          "model_name": "LayoutModel",
          "model_module_version": "1.2.0",
          "state": {
            "_model_module": "@jupyter-widgets/base",
            "_model_module_version": "1.2.0",
            "_model_name": "LayoutModel",
            "_view_count": null,
            "_view_module": "@jupyter-widgets/base",
            "_view_module_version": "1.2.0",
            "_view_name": "LayoutView",
            "align_content": null,
            "align_items": null,
            "align_self": null,
            "border": null,
            "bottom": null,
            "display": null,
            "flex": null,
            "flex_flow": null,
            "grid_area": null,
            "grid_auto_columns": null,
            "grid_auto_flow": null,
            "grid_auto_rows": null,
            "grid_column": null,
            "grid_gap": null,
            "grid_row": null,
            "grid_template_areas": null,
            "grid_template_columns": null,
            "grid_template_rows": null,
            "height": null,
            "justify_content": null,
            "justify_items": null,
            "left": null,
            "margin": null,
            "max_height": null,
            "max_width": null,
            "min_height": null,
            "min_width": null,
            "object_fit": null,
            "object_position": null,
            "order": null,
            "overflow": null,
            "overflow_x": null,
            "overflow_y": null,
            "padding": null,
            "right": null,
            "top": null,
            "visibility": null,
            "width": null
          }
        },
        "0afde0d544f8400aa87d208841d8c830": {
          "model_module": "@jupyter-widgets/controls",
          "model_name": "ProgressStyleModel",
          "model_module_version": "1.5.0",
          "state": {
            "_model_module": "@jupyter-widgets/controls",
            "_model_module_version": "1.5.0",
            "_model_name": "ProgressStyleModel",
            "_view_count": null,
            "_view_module": "@jupyter-widgets/base",
            "_view_module_version": "1.2.0",
            "_view_name": "StyleView",
            "bar_color": null,
            "description_width": ""
          }
        },
        "4d690ef6d6a640f6bceaf4eb4e4dd98e": {
          "model_module": "@jupyter-widgets/base",
          "model_name": "LayoutModel",
          "model_module_version": "1.2.0",
          "state": {
            "_model_module": "@jupyter-widgets/base",
            "_model_module_version": "1.2.0",
            "_model_name": "LayoutModel",
            "_view_count": null,
            "_view_module": "@jupyter-widgets/base",
            "_view_module_version": "1.2.0",
            "_view_name": "LayoutView",
            "align_content": null,
            "align_items": null,
            "align_self": null,
            "border": null,
            "bottom": null,
            "display": null,
            "flex": null,
            "flex_flow": null,
            "grid_area": null,
            "grid_auto_columns": null,
            "grid_auto_flow": null,
            "grid_auto_rows": null,
            "grid_column": null,
            "grid_gap": null,
            "grid_row": null,
            "grid_template_areas": null,
            "grid_template_columns": null,
            "grid_template_rows": null,
            "height": null,
            "justify_content": null,
            "justify_items": null,
            "left": null,
            "margin": null,
            "max_height": null,
            "max_width": null,
            "min_height": null,
            "min_width": null,
            "object_fit": null,
            "object_position": null,
            "order": null,
            "overflow": null,
            "overflow_x": null,
            "overflow_y": null,
            "padding": null,
            "right": null,
            "top": null,
            "visibility": null,
            "width": null
          }
        },
        "2d2ff19b9417468ab0b772c7110f1482": {
          "model_module": "@jupyter-widgets/controls",
          "model_name": "DescriptionStyleModel",
          "model_module_version": "1.5.0",
          "state": {
            "_model_module": "@jupyter-widgets/controls",
            "_model_module_version": "1.5.0",
            "_model_name": "DescriptionStyleModel",
            "_view_count": null,
            "_view_module": "@jupyter-widgets/base",
            "_view_module_version": "1.2.0",
            "_view_name": "StyleView",
            "description_width": ""
          }
        }
      }
    }
  },
  "cells": [
    {
      "cell_type": "markdown",
      "source": [
        "##**Chatbot com SQLite + LangChain + Modelos Hugging Face**"
      ],
      "metadata": {
        "id": "_PaYEJps1wi5"
      }
    },
    {
      "cell_type": "markdown",
      "source": [
        "**1. Preparação do Ambiente**"
      ],
      "metadata": {
        "id": "tzyIrhXHXdcJ"
      }
    },
    {
      "cell_type": "code",
      "execution_count": null,
      "metadata": {
        "colab": {
          "base_uri": "https://localhost:8080/"
        },
        "id": "bJCwCQueT9aG",
        "outputId": "48b74050-2aac-4d24-cb56-daf129df4237"
      },
      "outputs": [
        {
          "output_type": "stream",
          "name": "stdout",
          "text": [
            "\u001b[2K   \u001b[90m━━━━━━━━━━━━━━━━━━━━━━━━━━━━━━━━━━━━━━━━\u001b[0m \u001b[32m61.3/61.3 MB\u001b[0m \u001b[31m17.0 MB/s\u001b[0m eta \u001b[36m0:00:00\u001b[0m\n",
            "\u001b[2K   \u001b[90m━━━━━━━━━━━━━━━━━━━━━━━━━━━━━━━━━━━━━━━━\u001b[0m \u001b[32m2.5/2.5 MB\u001b[0m \u001b[31m47.8 MB/s\u001b[0m eta \u001b[36m0:00:00\u001b[0m\n",
            "\u001b[2K   \u001b[90m━━━━━━━━━━━━━━━━━━━━━━━━━━━━━━━━━━━━━━━━\u001b[0m \u001b[32m209.2/209.2 kB\u001b[0m \u001b[31m18.3 MB/s\u001b[0m eta \u001b[36m0:00:00\u001b[0m\n",
            "\u001b[2K   \u001b[90m━━━━━━━━━━━━━━━━━━━━━━━━━━━━━━━━━━━━━━━━\u001b[0m \u001b[32m64.7/64.7 kB\u001b[0m \u001b[31m2.4 MB/s\u001b[0m eta \u001b[36m0:00:00\u001b[0m\n",
            "\u001b[2K   \u001b[90m━━━━━━━━━━━━━━━━━━━━━━━━━━━━━━━━━━━━━━━━\u001b[0m \u001b[32m50.9/50.9 kB\u001b[0m \u001b[31m3.9 MB/s\u001b[0m eta \u001b[36m0:00:00\u001b[0m\n",
            "\u001b[?25h\u001b[31mERROR: pip's dependency resolver does not currently take into account all the packages that are installed. This behaviour is the source of the following dependency conflicts.\n",
            "google-colab 1.0.0 requires requests==2.32.4, but you have requests 2.32.5 which is incompatible.\u001b[0m\u001b[31m\n",
            "\u001b[0m"
          ]
        }
      ],
      "source": [
        "#Instalação das dependências\n",
        "!pip install --upgrade --quiet transformers accelerate bitsandbytes sentencepiece langchain langchain-community langchain-experimental\n"
      ]
    },
    {
      "cell_type": "code",
      "source": [
        "#instalação das bibliotecas\n",
        "import sqlite3\n",
        "import pandas as pd\n",
        "from transformers import AutoModelForCausalLM, AutoTokenizer, pipeline\n",
        "from langchain_community.llms import HuggingFacePipeline\n",
        "from langchain_community.utilities import SQLDatabase\n",
        "from langchain_experimental.sql import SQLDatabaseChain\n",
        "from huggingface_hub import login\n",
        "\n"
      ],
      "metadata": {
        "id": "qnasuUrqVH-0"
      },
      "execution_count": null,
      "outputs": []
    },
    {
      "cell_type": "markdown",
      "source": [
        "**2. Criação do Banco de Dados e Inserção de Clientes**"
      ],
      "metadata": {
        "id": "QvCOkZu4XYPn"
      }
    },
    {
      "cell_type": "markdown",
      "source": [
        "Nesta etapa foi criado um banco de dados SQLite chamado example.db, contendo a tabela clientes. A tabela foi definida com os seguintes campos:\n",
        "\n",
        "  - id (chave primária, inteiro)\n",
        "\n",
        "  - nome (texto)\n",
        "\n",
        "  - email (texto)\n",
        "\n",
        "  - cidade (texto)\n",
        "\n",
        "Antes da inserção, a tabela é limpa para evitar duplicação de registros. Em seguida, foram adicionados três clientes fictícios:\n",
        "\n",
        "  - Ana Silva – São Paulo\n",
        "\n",
        "  - Bruno Souza – Rio de Janeiro\n",
        "\n",
        "  - Carla Mendes – Belo Horizonte\n",
        "\n",
        "Por fim, os dados foram consultados e exibidos em um DataFrame do pandas, confirmando que a tabela foi criada e populada corretamente."
      ],
      "metadata": {
        "id": "Q1Ou8b75Xm-c"
      }
    },
    {
      "cell_type": "code",
      "source": [
        "# Criar banco e tabela de clientes\n",
        "conn = sqlite3.connect(\"example.db\")\n",
        "cursor = conn.cursor()\n",
        "\n",
        "cursor.execute(\"\"\"\n",
        "CREATE TABLE IF NOT EXISTS clientes (\n",
        "    id INTEGER PRIMARY KEY,\n",
        "    nome TEXT,\n",
        "    email TEXT,\n",
        "    cidade TEXT\n",
        ")\n",
        "\"\"\")\n",
        "\n",
        "# Inserir dados fictícios\n",
        "cursor.execute(\"DELETE FROM clientes\")  # limpa antes para evitar duplicação\n",
        "cursor.execute(\"INSERT INTO clientes (nome, email, cidade) VALUES ('Ana Silva', 'ana@email.com', 'São Paulo')\")\n",
        "cursor.execute(\"INSERT INTO clientes (nome, email, cidade) VALUES ('Bruno Souza', 'bruno@email.com', 'Rio de Janeiro')\")\n",
        "cursor.execute(\"INSERT INTO clientes (nome, email, cidade) VALUES ('Carla Mendes', 'carla@email.com', 'Belo Horizonte')\")\n",
        "\n",
        "conn.commit()\n",
        "conn.close()\n",
        "\n",
        "# Visualizar dados\n",
        "conn = sqlite3.connect(\"example.db\")\n",
        "df = pd.read_sql_query(\"SELECT * FROM clientes\", conn)\n",
        "conn.close()\n",
        "df\n"
      ],
      "metadata": {
        "colab": {
          "base_uri": "https://localhost:8080/",
          "height": 144
        },
        "id": "5B-UrDaJVZvH",
        "outputId": "2922a830-c159-4baf-f695-cb361da8164d"
      },
      "execution_count": null,
      "outputs": [
        {
          "output_type": "execute_result",
          "data": {
            "text/plain": [
              "   id          nome            email          cidade\n",
              "0   1     Ana Silva    ana@email.com       São Paulo\n",
              "1   2   Bruno Souza  bruno@email.com  Rio de Janeiro\n",
              "2   3  Carla Mendes  carla@email.com  Belo Horizonte"
            ],
            "text/html": [
              "\n",
              "  <div id=\"df-fce6b92c-326c-41ee-85e2-facc3c0a2565\" class=\"colab-df-container\">\n",
              "    <div>\n",
              "<style scoped>\n",
              "    .dataframe tbody tr th:only-of-type {\n",
              "        vertical-align: middle;\n",
              "    }\n",
              "\n",
              "    .dataframe tbody tr th {\n",
              "        vertical-align: top;\n",
              "    }\n",
              "\n",
              "    .dataframe thead th {\n",
              "        text-align: right;\n",
              "    }\n",
              "</style>\n",
              "<table border=\"1\" class=\"dataframe\">\n",
              "  <thead>\n",
              "    <tr style=\"text-align: right;\">\n",
              "      <th></th>\n",
              "      <th>id</th>\n",
              "      <th>nome</th>\n",
              "      <th>email</th>\n",
              "      <th>cidade</th>\n",
              "    </tr>\n",
              "  </thead>\n",
              "  <tbody>\n",
              "    <tr>\n",
              "      <th>0</th>\n",
              "      <td>1</td>\n",
              "      <td>Ana Silva</td>\n",
              "      <td>ana@email.com</td>\n",
              "      <td>São Paulo</td>\n",
              "    </tr>\n",
              "    <tr>\n",
              "      <th>1</th>\n",
              "      <td>2</td>\n",
              "      <td>Bruno Souza</td>\n",
              "      <td>bruno@email.com</td>\n",
              "      <td>Rio de Janeiro</td>\n",
              "    </tr>\n",
              "    <tr>\n",
              "      <th>2</th>\n",
              "      <td>3</td>\n",
              "      <td>Carla Mendes</td>\n",
              "      <td>carla@email.com</td>\n",
              "      <td>Belo Horizonte</td>\n",
              "    </tr>\n",
              "  </tbody>\n",
              "</table>\n",
              "</div>\n",
              "    <div class=\"colab-df-buttons\">\n",
              "\n",
              "  <div class=\"colab-df-container\">\n",
              "    <button class=\"colab-df-convert\" onclick=\"convertToInteractive('df-fce6b92c-326c-41ee-85e2-facc3c0a2565')\"\n",
              "            title=\"Convert this dataframe to an interactive table.\"\n",
              "            style=\"display:none;\">\n",
              "\n",
              "  <svg xmlns=\"http://www.w3.org/2000/svg\" height=\"24px\" viewBox=\"0 -960 960 960\">\n",
              "    <path d=\"M120-120v-720h720v720H120Zm60-500h600v-160H180v160Zm220 220h160v-160H400v160Zm0 220h160v-160H400v160ZM180-400h160v-160H180v160Zm440 0h160v-160H620v160ZM180-180h160v-160H180v160Zm440 0h160v-160H620v160Z\"/>\n",
              "  </svg>\n",
              "    </button>\n",
              "\n",
              "  <style>\n",
              "    .colab-df-container {\n",
              "      display:flex;\n",
              "      gap: 12px;\n",
              "    }\n",
              "\n",
              "    .colab-df-convert {\n",
              "      background-color: #E8F0FE;\n",
              "      border: none;\n",
              "      border-radius: 50%;\n",
              "      cursor: pointer;\n",
              "      display: none;\n",
              "      fill: #1967D2;\n",
              "      height: 32px;\n",
              "      padding: 0 0 0 0;\n",
              "      width: 32px;\n",
              "    }\n",
              "\n",
              "    .colab-df-convert:hover {\n",
              "      background-color: #E2EBFA;\n",
              "      box-shadow: 0px 1px 2px rgba(60, 64, 67, 0.3), 0px 1px 3px 1px rgba(60, 64, 67, 0.15);\n",
              "      fill: #174EA6;\n",
              "    }\n",
              "\n",
              "    .colab-df-buttons div {\n",
              "      margin-bottom: 4px;\n",
              "    }\n",
              "\n",
              "    [theme=dark] .colab-df-convert {\n",
              "      background-color: #3B4455;\n",
              "      fill: #D2E3FC;\n",
              "    }\n",
              "\n",
              "    [theme=dark] .colab-df-convert:hover {\n",
              "      background-color: #434B5C;\n",
              "      box-shadow: 0px 1px 3px 1px rgba(0, 0, 0, 0.15);\n",
              "      filter: drop-shadow(0px 1px 2px rgba(0, 0, 0, 0.3));\n",
              "      fill: #FFFFFF;\n",
              "    }\n",
              "  </style>\n",
              "\n",
              "    <script>\n",
              "      const buttonEl =\n",
              "        document.querySelector('#df-fce6b92c-326c-41ee-85e2-facc3c0a2565 button.colab-df-convert');\n",
              "      buttonEl.style.display =\n",
              "        google.colab.kernel.accessAllowed ? 'block' : 'none';\n",
              "\n",
              "      async function convertToInteractive(key) {\n",
              "        const element = document.querySelector('#df-fce6b92c-326c-41ee-85e2-facc3c0a2565');\n",
              "        const dataTable =\n",
              "          await google.colab.kernel.invokeFunction('convertToInteractive',\n",
              "                                                    [key], {});\n",
              "        if (!dataTable) return;\n",
              "\n",
              "        const docLinkHtml = 'Like what you see? Visit the ' +\n",
              "          '<a target=\"_blank\" href=https://colab.research.google.com/notebooks/data_table.ipynb>data table notebook</a>'\n",
              "          + ' to learn more about interactive tables.';\n",
              "        element.innerHTML = '';\n",
              "        dataTable['output_type'] = 'display_data';\n",
              "        await google.colab.output.renderOutput(dataTable, element);\n",
              "        const docLink = document.createElement('div');\n",
              "        docLink.innerHTML = docLinkHtml;\n",
              "        element.appendChild(docLink);\n",
              "      }\n",
              "    </script>\n",
              "  </div>\n",
              "\n",
              "\n",
              "    <div id=\"df-56ac470a-c005-4664-924e-030357f1a910\">\n",
              "      <button class=\"colab-df-quickchart\" onclick=\"quickchart('df-56ac470a-c005-4664-924e-030357f1a910')\"\n",
              "                title=\"Suggest charts\"\n",
              "                style=\"display:none;\">\n",
              "\n",
              "<svg xmlns=\"http://www.w3.org/2000/svg\" height=\"24px\"viewBox=\"0 0 24 24\"\n",
              "     width=\"24px\">\n",
              "    <g>\n",
              "        <path d=\"M19 3H5c-1.1 0-2 .9-2 2v14c0 1.1.9 2 2 2h14c1.1 0 2-.9 2-2V5c0-1.1-.9-2-2-2zM9 17H7v-7h2v7zm4 0h-2V7h2v10zm4 0h-2v-4h2v4z\"/>\n",
              "    </g>\n",
              "</svg>\n",
              "      </button>\n",
              "\n",
              "<style>\n",
              "  .colab-df-quickchart {\n",
              "      --bg-color: #E8F0FE;\n",
              "      --fill-color: #1967D2;\n",
              "      --hover-bg-color: #E2EBFA;\n",
              "      --hover-fill-color: #174EA6;\n",
              "      --disabled-fill-color: #AAA;\n",
              "      --disabled-bg-color: #DDD;\n",
              "  }\n",
              "\n",
              "  [theme=dark] .colab-df-quickchart {\n",
              "      --bg-color: #3B4455;\n",
              "      --fill-color: #D2E3FC;\n",
              "      --hover-bg-color: #434B5C;\n",
              "      --hover-fill-color: #FFFFFF;\n",
              "      --disabled-bg-color: #3B4455;\n",
              "      --disabled-fill-color: #666;\n",
              "  }\n",
              "\n",
              "  .colab-df-quickchart {\n",
              "    background-color: var(--bg-color);\n",
              "    border: none;\n",
              "    border-radius: 50%;\n",
              "    cursor: pointer;\n",
              "    display: none;\n",
              "    fill: var(--fill-color);\n",
              "    height: 32px;\n",
              "    padding: 0;\n",
              "    width: 32px;\n",
              "  }\n",
              "\n",
              "  .colab-df-quickchart:hover {\n",
              "    background-color: var(--hover-bg-color);\n",
              "    box-shadow: 0 1px 2px rgba(60, 64, 67, 0.3), 0 1px 3px 1px rgba(60, 64, 67, 0.15);\n",
              "    fill: var(--button-hover-fill-color);\n",
              "  }\n",
              "\n",
              "  .colab-df-quickchart-complete:disabled,\n",
              "  .colab-df-quickchart-complete:disabled:hover {\n",
              "    background-color: var(--disabled-bg-color);\n",
              "    fill: var(--disabled-fill-color);\n",
              "    box-shadow: none;\n",
              "  }\n",
              "\n",
              "  .colab-df-spinner {\n",
              "    border: 2px solid var(--fill-color);\n",
              "    border-color: transparent;\n",
              "    border-bottom-color: var(--fill-color);\n",
              "    animation:\n",
              "      spin 1s steps(1) infinite;\n",
              "  }\n",
              "\n",
              "  @keyframes spin {\n",
              "    0% {\n",
              "      border-color: transparent;\n",
              "      border-bottom-color: var(--fill-color);\n",
              "      border-left-color: var(--fill-color);\n",
              "    }\n",
              "    20% {\n",
              "      border-color: transparent;\n",
              "      border-left-color: var(--fill-color);\n",
              "      border-top-color: var(--fill-color);\n",
              "    }\n",
              "    30% {\n",
              "      border-color: transparent;\n",
              "      border-left-color: var(--fill-color);\n",
              "      border-top-color: var(--fill-color);\n",
              "      border-right-color: var(--fill-color);\n",
              "    }\n",
              "    40% {\n",
              "      border-color: transparent;\n",
              "      border-right-color: var(--fill-color);\n",
              "      border-top-color: var(--fill-color);\n",
              "    }\n",
              "    60% {\n",
              "      border-color: transparent;\n",
              "      border-right-color: var(--fill-color);\n",
              "    }\n",
              "    80% {\n",
              "      border-color: transparent;\n",
              "      border-right-color: var(--fill-color);\n",
              "      border-bottom-color: var(--fill-color);\n",
              "    }\n",
              "    90% {\n",
              "      border-color: transparent;\n",
              "      border-bottom-color: var(--fill-color);\n",
              "    }\n",
              "  }\n",
              "</style>\n",
              "\n",
              "      <script>\n",
              "        async function quickchart(key) {\n",
              "          const quickchartButtonEl =\n",
              "            document.querySelector('#' + key + ' button');\n",
              "          quickchartButtonEl.disabled = true;  // To prevent multiple clicks.\n",
              "          quickchartButtonEl.classList.add('colab-df-spinner');\n",
              "          try {\n",
              "            const charts = await google.colab.kernel.invokeFunction(\n",
              "                'suggestCharts', [key], {});\n",
              "          } catch (error) {\n",
              "            console.error('Error during call to suggestCharts:', error);\n",
              "          }\n",
              "          quickchartButtonEl.classList.remove('colab-df-spinner');\n",
              "          quickchartButtonEl.classList.add('colab-df-quickchart-complete');\n",
              "        }\n",
              "        (() => {\n",
              "          let quickchartButtonEl =\n",
              "            document.querySelector('#df-56ac470a-c005-4664-924e-030357f1a910 button');\n",
              "          quickchartButtonEl.style.display =\n",
              "            google.colab.kernel.accessAllowed ? 'block' : 'none';\n",
              "        })();\n",
              "      </script>\n",
              "    </div>\n",
              "\n",
              "  <div id=\"id_e868e246-9130-4f08-a161-1a9cea0671b7\">\n",
              "    <style>\n",
              "      .colab-df-generate {\n",
              "        background-color: #E8F0FE;\n",
              "        border: none;\n",
              "        border-radius: 50%;\n",
              "        cursor: pointer;\n",
              "        display: none;\n",
              "        fill: #1967D2;\n",
              "        height: 32px;\n",
              "        padding: 0 0 0 0;\n",
              "        width: 32px;\n",
              "      }\n",
              "\n",
              "      .colab-df-generate:hover {\n",
              "        background-color: #E2EBFA;\n",
              "        box-shadow: 0px 1px 2px rgba(60, 64, 67, 0.3), 0px 1px 3px 1px rgba(60, 64, 67, 0.15);\n",
              "        fill: #174EA6;\n",
              "      }\n",
              "\n",
              "      [theme=dark] .colab-df-generate {\n",
              "        background-color: #3B4455;\n",
              "        fill: #D2E3FC;\n",
              "      }\n",
              "\n",
              "      [theme=dark] .colab-df-generate:hover {\n",
              "        background-color: #434B5C;\n",
              "        box-shadow: 0px 1px 3px 1px rgba(0, 0, 0, 0.15);\n",
              "        filter: drop-shadow(0px 1px 2px rgba(0, 0, 0, 0.3));\n",
              "        fill: #FFFFFF;\n",
              "      }\n",
              "    </style>\n",
              "    <button class=\"colab-df-generate\" onclick=\"generateWithVariable('df')\"\n",
              "            title=\"Generate code using this dataframe.\"\n",
              "            style=\"display:none;\">\n",
              "\n",
              "  <svg xmlns=\"http://www.w3.org/2000/svg\" height=\"24px\"viewBox=\"0 0 24 24\"\n",
              "       width=\"24px\">\n",
              "    <path d=\"M7,19H8.4L18.45,9,17,7.55,7,17.6ZM5,21V16.75L18.45,3.32a2,2,0,0,1,2.83,0l1.4,1.43a1.91,1.91,0,0,1,.58,1.4,1.91,1.91,0,0,1-.58,1.4L9.25,21ZM18.45,9,17,7.55Zm-12,3A5.31,5.31,0,0,0,4.9,8.1,5.31,5.31,0,0,0,1,6.5,5.31,5.31,0,0,0,4.9,4.9,5.31,5.31,0,0,0,6.5,1,5.31,5.31,0,0,0,8.1,4.9,5.31,5.31,0,0,0,12,6.5,5.46,5.46,0,0,0,6.5,12Z\"/>\n",
              "  </svg>\n",
              "    </button>\n",
              "    <script>\n",
              "      (() => {\n",
              "      const buttonEl =\n",
              "        document.querySelector('#id_e868e246-9130-4f08-a161-1a9cea0671b7 button.colab-df-generate');\n",
              "      buttonEl.style.display =\n",
              "        google.colab.kernel.accessAllowed ? 'block' : 'none';\n",
              "\n",
              "      buttonEl.onclick = () => {\n",
              "        google.colab.notebook.generateWithVariable('df');\n",
              "      }\n",
              "      })();\n",
              "    </script>\n",
              "  </div>\n",
              "\n",
              "    </div>\n",
              "  </div>\n"
            ],
            "application/vnd.google.colaboratory.intrinsic+json": {
              "type": "dataframe",
              "variable_name": "df",
              "summary": "{\n  \"name\": \"df\",\n  \"rows\": 3,\n  \"fields\": [\n    {\n      \"column\": \"id\",\n      \"properties\": {\n        \"dtype\": \"number\",\n        \"std\": 1,\n        \"min\": 1,\n        \"max\": 3,\n        \"num_unique_values\": 3,\n        \"samples\": [\n          1,\n          2,\n          3\n        ],\n        \"semantic_type\": \"\",\n        \"description\": \"\"\n      }\n    },\n    {\n      \"column\": \"nome\",\n      \"properties\": {\n        \"dtype\": \"string\",\n        \"num_unique_values\": 3,\n        \"samples\": [\n          \"Ana Silva\",\n          \"Bruno Souza\",\n          \"Carla Mendes\"\n        ],\n        \"semantic_type\": \"\",\n        \"description\": \"\"\n      }\n    },\n    {\n      \"column\": \"email\",\n      \"properties\": {\n        \"dtype\": \"string\",\n        \"num_unique_values\": 3,\n        \"samples\": [\n          \"ana@email.com\",\n          \"bruno@email.com\",\n          \"carla@email.com\"\n        ],\n        \"semantic_type\": \"\",\n        \"description\": \"\"\n      }\n    },\n    {\n      \"column\": \"cidade\",\n      \"properties\": {\n        \"dtype\": \"string\",\n        \"num_unique_values\": 3,\n        \"samples\": [\n          \"S\\u00e3o Paulo\",\n          \"Rio de Janeiro\",\n          \"Belo Horizonte\"\n        ],\n        \"semantic_type\": \"\",\n        \"description\": \"\"\n      }\n    }\n  ]\n}"
            }
          },
          "metadata": {},
          "execution_count": 3
        }
      ]
    },
    {
      "cell_type": "markdown",
      "source": [
        "**3. Autenticação no Hugging Face**"
      ],
      "metadata": {
        "id": "kkvYvK_eYkgP"
      }
    },
    {
      "cell_type": "markdown",
      "source": [
        "Para utilizar modelos hospedados na plataforma Hugging Face, é necessário autenticar-se com um token de acesso pessoal.\n",
        "\n",
        "No código, o token deve ser colado na variável HF_TOKEN entre aspas.\n",
        "\n",
        "Após executar o comando login(HF_TOKEN), a autenticação será concluída e será possível carregar e utilizar modelos da Hugging Face no projeto.\n",
        "\n",
        "Observação: o token pode ser obtido na sua conta do Hugging Face, na seção Access Tokens."
      ],
      "metadata": {
        "id": "YD45sXJAYoe7"
      }
    },
    {
      "cell_type": "code",
      "source": [
        "#Cole seu token do Hugging Face aqui (entre aspas)\n",
        "HF_TOKEN = \"hf..\"\n",
        "\n",
        "login(HF_TOKEN)\n",
        "print(\"🔑 Login no Hugging Face realizado com sucesso!\")\n"
      ],
      "metadata": {
        "colab": {
          "base_uri": "https://localhost:8080/"
        },
        "id": "8O-uOsVfpP6j",
        "outputId": "3f8982c7-c71a-4b0e-a32b-ef2ecca12a71"
      },
      "execution_count": null,
      "outputs": [
        {
          "output_type": "stream",
          "name": "stdout",
          "text": [
            "🔑 Login no Hugging Face realizado com sucesso!\n"
          ]
        }
      ]
    },
    {
      "cell_type": "markdown",
      "source": [
        "**4. Integração com LangChain**"
      ],
      "metadata": {
        "id": "sanBRp1NY-h7"
      }
    },
    {
      "cell_type": "markdown",
      "source": [
        "Antes de iniciarmos a implementação do chatbot, foi necessário carregar e configurar o modelo de linguagem que fará a interpretação das perguntas em linguagem natural e a geração das respostas. Para isso, utilizamos o modelo Mistral-7B-Instruct, disponível na Hugging Face, que foi carregado com otimizações de memória (quantização em 4 bits e offload automático para CPU/GPU).\n",
        "\n",
        "Em seguida, criamos um pipeline de geração de texto ajustado para produzir saídas curtas, consistentes e determinísticas, ideais para tarefas como geração de consultas SQL e respostas objetivas. Por fim, integramos esse pipeline ao LangChain por meio da classe HuggingFacePipeline, tornando o modelo pronto para ser utilizado dentro da aplicação de chatbot."
      ],
      "metadata": {
        "id": "t1vMmDOJY8OJ"
      }
    },
    {
      "cell_type": "code",
      "source": [
        "\n",
        "\n",
        "model_name = \"mistralai/Mistral-7B-Instruct-v0.1\"\n",
        "\n",
        "tokenizer = AutoTokenizer.from_pretrained(model_name)\n",
        "\n",
        "model = AutoModelForCausalLM.from_pretrained(\n",
        "    model_name,\n",
        "    load_in_4bit=True,   # reduz uso de memória\n",
        "    device_map=\"auto\",\n",
        "    llm_int8_enable_fp32_cpu_offload=True,\n",
        "    trust_remote_code=True\n",
        ")\n",
        "\n",
        "# Criar pipeline de geração de texto\n",
        "generator = pipeline(\n",
        "    \"text-generation\",\n",
        "    model=model,\n",
        "    tokenizer=tokenizer,\n",
        "    max_new_tokens=50,     # suficiente para SQL + resposta\n",
        "    temperature=0.1,        # mais consistente\n",
        "    do_sample=False,        # determinístico\n",
        "    return_full_text=False\n",
        ")\n",
        "\n",
        "\n",
        "# Conectar modelo ao LangChain\n",
        "llm = HuggingFacePipeline(pipeline=generator)\n",
        "print(\"✅ Modelo Mistral-7B-Instruct carregado com sucesso!\")\n"
      ],
      "metadata": {
        "colab": {
          "base_uri": "https://localhost:8080/",
          "height": 150,
          "referenced_widgets": [
            "346bf1e5b56348a0ad70547b74df99a1",
            "8eda9bfdc1154ccd97d97e8e24d399db",
            "1377b76d2d5944dfa50b2466b94d7bba",
            "59c1c7e27cc14a9fb09710f12cc54af0",
            "02990b5e82cf41ac87b64bc25f9ca2af",
            "434df2c8907e4b0db36c577bcdb6b93e",
            "cf8327bbb0584eb5892dc9d31baf7eb3",
            "adfc1d9994cb47d39c0402d5f3781608",
            "c50dabf053634051ba45e0d8fe6d0b92",
            "17878cad81e54365bf5683e4874a788e",
            "089a3ab80dc64d57b89e98f7d7eee652",
            "308a118c80cf4480ae098482abb1441d",
            "8694ce731741403fac3d37ee158f3bae",
            "5b2358d01cc04d3097f34cd74d0c59b2",
            "2b70c5d61106452c863dda67af2d9b19",
            "82a74cc36dcd4427ade3f0630ef3c1cb",
            "1d1d7a2a798045668a986346123a8e55",
            "19c2a52d971f4d6ea6e81224790a8d27",
            "c35fe860077c4e879d5c08423d51fca1",
            "0afde0d544f8400aa87d208841d8c830",
            "4d690ef6d6a640f6bceaf4eb4e4dd98e",
            "2d2ff19b9417468ab0b772c7110f1482"
          ]
        },
        "id": "EViamw5RVd00",
        "outputId": "36cf5e97-a4ce-49e9-d0b8-f5c43bc7374d"
      },
      "execution_count": null,
      "outputs": [
        {
          "output_type": "stream",
          "name": "stderr",
          "text": [
            "The `load_in_4bit` and `load_in_8bit` arguments are deprecated and will be removed in the future versions. Please, pass a `BitsAndBytesConfig` object in `quantization_config` argument instead.\n"
          ]
        },
        {
          "output_type": "display_data",
          "data": {
            "text/plain": [
              "Loading checkpoint shards:   0%|          | 0/2 [00:00<?, ?it/s]"
            ],
            "application/vnd.jupyter.widget-view+json": {
              "version_major": 2,
              "version_minor": 0,
              "model_id": "346bf1e5b56348a0ad70547b74df99a1"
            }
          },
          "metadata": {}
        },
        {
          "output_type": "display_data",
          "data": {
            "text/plain": [
              "generation_config.json:   0%|          | 0.00/116 [00:00<?, ?B/s]"
            ],
            "application/vnd.jupyter.widget-view+json": {
              "version_major": 2,
              "version_minor": 0,
              "model_id": "308a118c80cf4480ae098482abb1441d"
            }
          },
          "metadata": {}
        },
        {
          "output_type": "stream",
          "name": "stderr",
          "text": [
            "Device set to use cuda:0\n",
            "The following generation flags are not valid and may be ignored: ['temperature']. Set `TRANSFORMERS_VERBOSITY=info` for more details.\n"
          ]
        },
        {
          "output_type": "stream",
          "name": "stdout",
          "text": [
            "✅ Modelo Mistral-7B-Instruct carregado com sucesso!\n"
          ]
        }
      ]
    },
    {
      "cell_type": "markdown",
      "source": [
        "**5. Integração entre Banco de Dados SQLite e LangChain**"
      ],
      "metadata": {
        "id": "Jrh52D6IZHQs"
      }
    },
    {
      "cell_type": "markdown",
      "source": [
        "Nesta etapa, realizamos a integração entre o banco de dados SQLite e o LangChain. Primeiro, foi estabelecida a conexão com o banco example.db, onde está armazenada a tabela de clientes. Em seguida, criamos um pipeline que combina o modelo de linguagem (LLM) com o banco de dados, permitindo que o chatbot interprete perguntas em linguagem natural, traduza essas perguntas em consultas SQL e retorne a resposta diretamente ao usuário.\n",
        "\n",
        "Com isso, o chatbot está pronto para responder perguntas sobre os clientes cadastrados no banco, unindo o poder dos modelos de linguagem da Hugging Face com a manipulação estruturada de dados via SQLite."
      ],
      "metadata": {
        "id": "PycC_514ZM5i"
      }
    },
    {
      "cell_type": "code",
      "source": [
        "# Conectar SQLite ao LangChain\n",
        "db = SQLDatabase.from_uri(\"sqlite:///example.db\")\n",
        "\n",
        "# Criar pipeline: modelo + banco\n",
        "db_chain = SQLDatabaseChain.from_llm(llm, db, verbose=False, return_direct=True)\n",
        "\n",
        "print(\"🤖 Chatbot pronto para responder perguntas!\")\n"
      ],
      "metadata": {
        "colab": {
          "base_uri": "https://localhost:8080/"
        },
        "id": "4h0Yn4RVWToY",
        "outputId": "c385c5e5-9924-4353-aa2f-d03c2f638a08"
      },
      "execution_count": null,
      "outputs": [
        {
          "output_type": "stream",
          "name": "stdout",
          "text": [
            "🤖 Chatbot pronto para responder perguntas!\n"
          ]
        }
      ]
    },
    {
      "cell_type": "markdown",
      "source": [
        "**6. Teste**"
      ],
      "metadata": {
        "id": "WLzuUq7BZSoV"
      }
    },
    {
      "cell_type": "markdown",
      "source": [
        "Nesta etapa, foi implementada a função perguntar(), responsável por receber uma questão em linguagem natural, executar a consulta no banco de dados SQLite e devolver a resposta ao usuário em um formato claro e amigável.\n",
        "\n",
        "O fluxo funciona da seguinte maneira:\n",
        "\n",
        "  - O LangChain interpreta a pergunta e a transforma em uma consulta SQL para buscar a resposta no banco.\n",
        "\n",
        "  - Se o retorno vier em formato estruturado (lista, tupla ou dicionário), o código faz uma formatação prévia para simplificar os dados.\n",
        "\n",
        "  - Em seguida, é utilizado novamente o modelo de linguagem (LLM) para reformular a resposta bruta em português natural, tornando a interação mais intuitiva.\n",
        "\n",
        "Por fim, foi criado um loop interativo no terminal, onde o usuário pode digitar suas perguntas em português e receber as respostas do chatbot. O comando \"sair\" encerra a sessão.\n",
        "\n",
        "Esse passo conclui a integração entre:\n",
        "\n",
        "  - Modelo Hugging Face (Mistral-7B-Instruct) para compreensão e geração de linguagem natural.\n",
        "\n",
        "  - LangChain para orquestração entre linguagem natural e SQL.\n",
        "\n",
        "  - SQLite como fonte de dados persistente.\n",
        "\n",
        "O resultado é um chatbot capaz de responder perguntas como:\n",
        "\n",
        "“Quais clientes moram em São Paulo?”\n",
        "\n",
        "“Qual é o e-mail de Carla Mendes?”"
      ],
      "metadata": {
        "id": "wN6eAQ0TZcZR"
      }
    },
    {
      "cell_type": "code",
      "source": [
        "def perguntar(pergunta):\n",
        "    # Executa a query normalmente\n",
        "    resposta = db_chain.invoke(pergunta)\n",
        "\n",
        "    # Se vier dicionário, pega só o campo 'result'\n",
        "    if isinstance(resposta, dict) and \"result\" in resposta:\n",
        "        resposta = resposta[\"result\"]\n",
        "\n",
        "    # Pré-formatar resultado em texto simples\n",
        "    if isinstance(resposta, list):\n",
        "        frases = []\n",
        "        for r in resposta:\n",
        "            if isinstance(r, tuple):\n",
        "                frases.append(\", \".join(map(str, r)))\n",
        "            else:\n",
        "                frases.append(str(r))\n",
        "        resposta = \"; \".join(frases)\n",
        "    elif isinstance(resposta, (tuple, list)):\n",
        "        resposta = \", \".join(map(str, resposta))\n",
        "\n",
        "    # Agora pedir ao modelo para deixar natural\n",
        "    prompt = f\"\"\"\n",
        "    Reformule a seguinte resposta do banco de dados em português, de forma clara e amigável:\n",
        "\n",
        "    Pergunta: {pergunta}\n",
        "    Resposta bruta: {resposta}\n",
        "\n",
        "    Resposta natural:\n",
        "    \"\"\"\n",
        "    resposta_final = llm(prompt)\n",
        "\n",
        "    return f\"📌 Pergunta: {pergunta}\\n🤖 Resposta: {resposta_final}\"\n",
        "\n",
        "    print(\"🤖 Chatbot iniciado! Digite sua pergunta ou 'sair' para encerrar.\\n\")\n",
        "\n",
        "# --- Loop interativo ---\n",
        "print(\"🤖 Chatbot conectado ao banco de dados!\")\n",
        "print(\"Digite sua pergunta em português ou 'sair' para encerrar.\\n\")\n",
        "\n",
        "while True:\n",
        "    pergunta = input(\"🧑 Você: \")\n",
        "    if pergunta.strip().lower() in [\"sair\", \"exit\", \"quit\"]:\n",
        "        print(\"🤖 Bot: Até logo!\")\n",
        "        break\n",
        "\n",
        "    resposta = perguntar(pergunta)\n",
        "    print(f\"🤖 Bot: {resposta}\\n\")\n",
        "\n"
      ],
      "metadata": {
        "colab": {
          "base_uri": "https://localhost:8080/"
        },
        "id": "0nVXBrFhw_Jb",
        "outputId": "54f0dcec-9fd7-4a4e-d2e7-93686cc8b02e"
      },
      "execution_count": null,
      "outputs": [
        {
          "name": "stdout",
          "output_type": "stream",
          "text": [
            "🤖 Chatbot conectado ao banco de dados!\n",
            "Digite sua pergunta em português ou 'sair' para encerrar.\n",
            "\n",
            "🧑 Você: qual cliente mora em são paulo?\n"
          ]
        },
        {
          "output_type": "stream",
          "name": "stderr",
          "text": [
            "Setting `pad_token_id` to `eos_token_id`:2 for open-end generation.\n",
            "Setting `pad_token_id` to `eos_token_id`:2 for open-end generation.\n"
          ]
        },
        {
          "name": "stdout",
          "output_type": "stream",
          "text": [
            "🤖 Bot: 📌 Pergunta: qual cliente mora em são paulo?\n",
            "🤖 Resposta: \n",
            "    \"Qual cliente mora em São Paulo?\"\n",
            "    \"Ana Silva mora em São Paulo.\"\n",
            "\n",
            "🧑 Você: Qual é o email de Bruno Souza?\n"
          ]
        },
        {
          "output_type": "stream",
          "name": "stderr",
          "text": [
            "Setting `pad_token_id` to `eos_token_id`:2 for open-end generation.\n",
            "Setting `pad_token_id` to `eos_token_id`:2 for open-end generation.\n"
          ]
        },
        {
          "output_type": "stream",
          "name": "stdout",
          "text": [
            "🤖 Bot: 📌 Pergunta: Qual é o email de Bruno Souza?\n",
            "🤖 Resposta: \n",
            "    O email de Bruno Souza é: bruno@email.com\n",
            "\n",
            "🧑 Você: sair\n",
            "🤖 Bot: Até logo!\n"
          ]
        }
      ]
    }
  ]
}